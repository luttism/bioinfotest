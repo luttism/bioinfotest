{
  "nbformat": 4,
  "nbformat_minor": 0,
  "metadata": {
    "colab": {
      "provenance": [],
      "collapsed_sections": []
    },
    "kernelspec": {
      "name": "python3",
      "display_name": "Python 3"
    },
    "language_info": {
      "name": "python"
    }
  },
  "cells": [
    {
      "cell_type": "markdown",
      "source": [
        "# **Desafio 05 - Construcao de pipeline para chamada de variantes e detecção de SNVs e INDELs de DNASeq - Teste Admissional - Varsomics**\n"
      ],
      "metadata": {
        "id": "9tUxHCRN-Cpz"
      }
    },
    {
      "cell_type": "markdown",
      "source": [
        "O objetivo é montar o pipeline, executar o pipeline com uma amostra de exemplo e nos enviar os resultados encontrados e responder alguns\n",
        "questionamentos sobre o pipeline."
      ],
      "metadata": {
        "id": "fn_qaA8A-wK1"
      }
    },
    {
      "cell_type": "markdown",
      "source": [
        "**Descricao da pipeline**\n",
        "----\n",
        "1) Preparacao do ambiente (criacao de diretorios de saida e de analise).\n",
        "\n",
        "2) Rodar comandos para responder as questoes 1 e 2:\n"
      ],
      "metadata": {
        "id": "J3k4qidZ-6kn"
      }
    },
    {
      "cell_type": "code",
      "source": [
        "%%bash\n",
        "# Preparando o ambiente para a analise\n",
        "mkdir genome\n",
        "mv hg19.* genome/\n",
        "\n",
        "mkdir questions/\n",
        "\n",
        "mkdir samples\n",
        "mv 510-7-BRCA_S8_L001_R1_001.fastq.gz samples/\n",
        "mv 510-7-BRCA_S8_L001_R2_001.fastq.gz samples/\n",
        "\n",
        "mkdir analysis/\n",
        "cd analysis\n",
        "mkdir sam bam variants\n",
        "\n",
        "# Comandos para Questao 1\n",
        "# Quantidade de sequencias - R1\n",
        "zcat ../samples/510-7-BRCA_S8_L001_R1_001.fastq.gz | wc -l | awk '{ print $1/4 }' > ../questions/01_numero_reads_R1.txt\n",
        "# Quantidade de sequencias - R2\n",
        "zcat ../samples/510-7-BRCA_S8_L001_R2_001.fastq.gz | wc -l | awk '{ print $1/4 }' > ../questions/01_numero_reads_R2.txt\n",
        "\n",
        "# Comandos para Questao 2\n",
        "# Quantos contigs em hg19.fasta?\n",
        "grep -ic \">\" ../genome/hg19.fasta > ../questions/02_numero_contigs_hg19.txt\n"
      ],
      "metadata": {
        "id": "cUKYZXizDrjb"
      },
      "execution_count": null,
      "outputs": []
    },
    {
      "cell_type": "markdown",
      "source": [
        "3) Alinhamento dos arquivos FASTQ contra o genoma humano (hg19), usando o programa BWA:"
      ],
      "metadata": {
        "id": "-7uCSLWmDih9"
      }
    },
    {
      "cell_type": "code",
      "execution_count": null,
      "metadata": {
        "id": "ZP7ySMxl9-pl"
      },
      "outputs": [],
      "source": [
        "%%bash\n",
        "\n",
        "source activate variants_analysis\n",
        "\n",
        "# Alinhamento com BWA\n",
        "bwa mem -t 2 -R \"@RG\\tID:amostra01\\tSM:amostra01\\tPL:Illumina\\tLB:amostra01\\tPU:unit1\" ../genome/hg19.fasta ../samples/510-7-BRCA_S8_L001_R1_001.fastq.gz ../samples/510-7-BRCA_S8_L001_R2_001.fastq.gz > sam/510-7-BRCA_S8.mapped.sam 2> sam/debug_bwa_510-7-BRCA_S8.mapped.txt\n",
        "\n",
        "conda deactivate\n"
      ]
    },
    {
      "cell_type": "markdown",
      "source": [
        "4) Rodar o programa SAMTOOLS para converter os arquivos SAM para BAM, ordenado por cromossomo e coordenada do genoma."
      ],
      "metadata": {
        "id": "KvPoXIivAO03"
      }
    },
    {
      "cell_type": "code",
      "source": [
        "%%bash\n",
        "source activate variants_analysis\n",
        "\n",
        "# Converter SAM to BAM\n",
        "samtools view -S -b sam/510-7-BRCA_S8.mapped.sam > bam/510-7-BRCA_S8.mapped.bam\n",
        "samtools sort bam/510-7-BRCA_S8.mapped.bam -o bam/510-7-BRCA_S8.mapped.sorted.bam\n",
        "samtools index bam/510-7-BRCA_S8.mapped.sorted.bam\n",
        "\n",
        "# Questao 3\n",
        "# chr17:41197694-41197819\n",
        "# Primeiro - Arquivo SAM ordenado por chr e posicao\n",
        "samtools view bam/510-7-BRCA_S8.mapped.sorted.bam > sam/510-7-BRCA_S8.mapped.sorted.sam\n",
        "\n",
        "awk '{ if($3 == \"chr17\"){ if($4 >= 41197694){ if($4 <= 41197819){ print $0 } } } }' sam/510-7-BRCA_S8.mapped.sorted.sam > sam/chr17.sam\n",
        "wc -l sam/chr17.sam > ../questions/03_numero_reads_chr17_41197694-41197819.txt\n",
        "\n",
        "# Questao 4\n",
        "# Obter reads nao alinhados\n",
        "cd ../\n",
        "samtools view -b -f 4 bam/510-7-BRCA_S8.mapped.bam > bam/unmapped_510-7-BRCA_S8.bam\n",
        "samtools view bam/unmapped_510-7-BRCA_S8.bam > sam/unmapped_510-7-BRCA_S8.sam\n",
        "wc -l sam/unmapped_510-7-BRCA_S8.sam > ../questions/04_numero_unmapped_reads.txt\n",
        "\n",
        "conda deactivate"
      ],
      "metadata": {
        "id": "reYDLc9pA6B6"
      },
      "execution_count": null,
      "outputs": []
    },
    {
      "cell_type": "markdown",
      "source": [
        "5) Rodar o programa FREEBAYES para busca de variantes (SNVs, Indels, entre outras):"
      ],
      "metadata": {
        "id": "hFuVKl-ODII4"
      }
    },
    {
      "cell_type": "code",
      "source": [
        "%%bash\n",
        "source activate variants_analysis\n",
        "\n",
        "# Variantes com frequencia maior que 50% - na amostra inteira\n",
        "freebayes -C 5 -F 0.5 -m 20 -q 20 --min-coverage 20 -f ../genome/hg19.fasta -p 1 bam/510-7-BRCA_S8.mapped.sorted.bam > variants/510-7-BRCA_S8.mapped_variants.vcf\n",
        "\n",
        "conda deactivate\n"
      ],
      "metadata": {
        "id": "lKpZoMZwGl8g"
      },
      "execution_count": null,
      "outputs": []
    },
    {
      "cell_type": "markdown",
      "source": [
        "6) Rodar o programa SnpEff para anotar as variantes encontradas pela analise realizada pelo programa Freebayes."
      ],
      "metadata": {
        "id": "g1Id6tYLHJW7"
      }
    },
    {
      "cell_type": "code",
      "source": [
        "#source activate variants_analysis\n",
        "\n",
        "# Anotacao das variantes com o snpEff\n",
        "# Tentei rodar pelo snpEff 5.0 - pacote conda - mas deu erro no Java por \"overflow\" da memoria\n",
        "#snpEff hg19 variants/510-7-BRCA_S8.mapped_variants.vcf > variants/510-7-BRCA_S8.mapped_variants.ann.vcf\n",
        "\n",
        "# conda deactivate\n",
        "\n",
        "# Segunda tentativa - instalar o programa direto no Linux Ubuntu 18.04 e deu certo!\n",
        "# Anotacao das variantes com o snpEff - Caso o primeiro nao funcione\n",
        "java -Xmx8g -jar /home/luciana/programas/snpEff/snpEff/snpEff.jar hg19 variants/510-7-BRCA_S8.mapped_variants.vcf > variants/510-7-BRCA_S8.mapped_variants.ann.vcf\n",
        "\n"
      ],
      "metadata": {
        "id": "jVU8_TkpHc6-"
      },
      "execution_count": null,
      "outputs": []
    },
    {
      "cell_type": "markdown",
      "source": [
        "7) Rodar novamente a pipeline para a Questao 5 - buscar por variantes especificas para o gene BRCA (associado a cancer de mama). \n",
        "\n",
        "As coordenadas estao presentes no arquivo BRCA.list e no BRCA.bed."
      ],
      "metadata": {
        "id": "Eo1bLAaDIHVZ"
      }
    },
    {
      "cell_type": "code",
      "source": [
        "%%bash\n",
        "source variants_analysis\n",
        "\n",
        "# 1 - Tentei rodar primeiramente o SnpEff com o parametro do BRCA.bed, mas nao deu certo. \n",
        "# Retornou o arquivo com todos os cromossomos, sendo que deveria ter somente chr13 e chr17.\n",
        "java -Xmx8g -jar /home/luciana/programas/snpEff/snpEff/snpEff.jar hg19 variants/510-7-BRCA_S8.mapped_variants.vcf -interval ../bed/BRCA.bed > variants/BRCA_2.ann.vcf\n",
        "java -Xmx8g -jar /home/luciana/programas/snpEff/snpEff/snpEff.jar hg19 variants/BRCA.vcf > variants/BRCA.ann.vcf\n",
        "\n",
        "# Passos anteriores\n",
        "# samtools view bam/510-7-BRCA_S8.mapped.sorted.bam > sam/510-7-BRCA_S8.mapped.sorted.sam\n",
        "\n",
        "# Questao 5 - BRCA\n",
        "# Arquivo BRCA.list tem as coordenadas para o gene alvo BRCA\n",
        "#chr13   32890433    32973045\n",
        "#chr17   41197559    41276257\n",
        "# Tive que filtrar o arquivo SAM para as posicoes e tambem adicionar somente os cabecalhos dos cromossomos 13 e 17 no arquivo SAM de saida.\n",
        "awk '{ if($2 == \"SN:chr13\" || $2 == \"SN:chr17\"){ print $0 } }' sam/510-7-BRCA_S8.mapped.sam > sam/BRCA.sam\n",
        "grep -i \"@RG\" sam/510-7-BRCA_S8.mapped.sam >> sam/BRCA.sam\n",
        "grep -i \"@PG\" sam/510-7-BRCA_S8.mapped.sam >> sam/BRCA.sam\n",
        "awk '{ if($3 == \"chr13\"){ if($4 >= 32890433){ if($4 <= 32973045){ print $0 } } } }' sam/510-7-BRCA_S8.mapped.sorted.sam >> sam/BRCA.sam\n",
        "awk '{ if($3 == \"chr17\"){ if($4 >= 41197559){ if($4 <= 41276257){ print $0 } } } }' sam/510-7-BRCA_S8.mapped.sorted.sam >> sam/BRCA.sam\n",
        "\n",
        "samtools view -S -b sam/BRCA.sam > bam/BRCA.bam\n",
        "samtools index bam/BRCA.bam\n",
        "\n",
        "# Variantes com frequencia maior que 50%\n",
        "freebayes -C 5 -F 0.5 -m 20 -q 20 --min-coverage 20 -f ../genome/hg19.fasta -p 1 bam/BRCA.bam > variants/BRCA.vcf\n",
        "\n",
        "# Anotacao das variantes com o snpEff\n",
        "java -Xmx8g -jar /home/artic/programas/snpEff/snpEff/snpEff.jar hg19 variants/BRCA.vcf > variants/BRCA.ann.vcf\n",
        "\n",
        "# Busca por modificacoes\n",
        "echo \"HIGH\" > ../questions/05_variantes_BRCA.txt\n",
        "grep -ic \"HIGH\" variants/BRCA.ann.vcf >> ../questions/05_variantes_BRCA.txt\n",
        "\n",
        "echo \"MODERATE\" >> ../questions/05_variantes_BRCA.txt\n",
        "grep -ic \"MODERATE\" variants/BRCA.ann.vcf >> ../questions/05_variantes_BRCA.txt\n",
        "\n",
        "echo \"LOW\" >> ../questions/05_variantes_BRCA.txt\n",
        "grep -ic \"LOW\" variants/BRCA.ann.vcf >> ../questions/05_variantes_BRCA.txt\n",
        "\n",
        "echo \"MODIFIER\" >> ../questions/05_variantes_BRCA.txt\n",
        "grep -ic \"MODIFIER\" variants/BRCA.ann.vcf >> ../questions/05_variantes_BRCA.txt\n"
      ],
      "metadata": {
        "id": "SvqoSsxUIbRN"
      },
      "execution_count": null,
      "outputs": []
    },
    {
      "cell_type": "markdown",
      "source": [
        "No diretorio /varsomics/bioinfotest/output do GitHub tem um questionario com 5 questoes referentes `a analise.\n",
        "As respostas foram encontradas assim que a pipeline foi rodada e estao logo abaixo:"
      ],
      "metadata": {
        "id": "SbdSbfpzLXys"
      }
    },
    {
      "cell_type": "markdown",
      "source": [
        "    1 - Quantas sequências de DNA de paciente sequenciados temos nos arquivos de fastqs R1 e R2 respectivamente ?\n",
        "    Resposta: Temos 64276 reads sequenciados no arquivo fastq R1 e 64276 reads no R2.\n",
        "\n",
        "\n",
        "    2 - Sobre o genoma humano hg19, quantos contigs tem o nosso genoma hg19 (hg19.fasta) aqui disponibilizado para este pipeline ?\n",
        "    Resposta: 93 contigs (sendo 25 contigs dos cromossomos 1 ao 22, MT, X e Y).\n",
        "\n",
        "\n",
        "    3 - Quantos alinhamentos há na região chr17:41197694-41197819 ?\n",
        "    Resposta: 978 alinhamentos.\n",
        "\n",
        "    4 - Quantos alinhamentos não conseguiram ser mapeados (unmapped alignments ?)\n",
        "    Resposta: 2663 alinhamentos nao conseguiram ser mapeados.\n",
        "\n",
        "\n",
        "    5 - Realize o alinhamento das sequências FASTQ contra o genoma de referência hg19 aqui disponibilizado, \n",
        "    e realize a chamada de variantes utilizando a região alvo BRCA.list (interesse apenas na região dos genes BRCA1 e BRCA2).  \n",
        "    Realize a anotação de dados funcionais usando o SNPEFF.\n",
        "    Com este arquivo em mãos , responda as seguintes perguntas ?\n",
        "\n",
        "    5.1- Quantas variantes existem com impacto funcional (Annotation_Impact) do tipo HIGH, MODERATE, LOW ?\n",
        "    Resposta:\n",
        "    - HIGH - 0\n",
        "    - MODERATE - 2\n",
        "    - LOW - 2\n",
        "    - MODIFIER - 6\n",
        "\n",
        "    Existe alguma variante em HIGH ? Qual é cromossomo, posição e a alteração ?\n",
        "    Nao apareceu variante em HIGH neste dataset. Tive que rodar o SnpEff em uma versao mais antiga (SnpEff  4.3t - 2017-11-2), \n",
        "    pois deu erro de \"estouro\"(\"overflow\") de memoria no Java na versao 5.0."
      ],
      "metadata": {
        "id": "bD0fKbrxLz_H"
      }
    }
  ]
}